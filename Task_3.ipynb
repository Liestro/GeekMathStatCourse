{
  "nbformat": 4,
  "nbformat_minor": 0,
  "metadata": {
    "colab": {
      "name": "Task_3.ipynb",
      "provenance": []
    },
    "kernelspec": {
      "name": "python3",
      "display_name": "Python 3"
    },
    "language_info": {
      "name": "python"
    }
  },
  "cells": [
    {
      "cell_type": "markdown",
      "metadata": {
        "id": "aLVSoBhupRDh"
      },
      "source": [
        "# Задача №1\n",
        "Даны значения зарплат из выборки выпускников: 100, 80, 75, 77, 89, 33, 45, 25, 65, 17, 30, 24, 57, 55, 70, 75, 65, 84, 90, 150. Посчитать (желательно без использования статистических методов наподобие std, var, mean) среднее арифметическое, среднее квадратичное отклонение, смещенную и несмещенную оценки дисперсий для данной выборки."
      ]
    },
    {
      "cell_type": "markdown",
      "metadata": {
        "id": "tVsSjeaDiWdx"
      },
      "source": [
        "# Решение"
      ]
    },
    {
      "cell_type": "code",
      "metadata": {
        "colab": {
          "base_uri": "https://localhost:8080/"
        },
        "id": "A3pPEfPqpOjs",
        "outputId": "311a655f-62d6-43da-a34e-67151905371b"
      },
      "source": [
        "import numpy as np\n",
        "\n",
        "data = [100, 80, 75, 77, 89, 33, 45, 25, 65, 17, 30, 24,\n",
        "        57, 55, 70, 75, 65, 84, 90, 150]\n",
        "\n",
        "result = {}\n",
        "result[\"Среднее арифметическое\"] = sum(data) / len(data)\n",
        "result[\"Смещенная дисперсия\"] = sum([(it - mean)**2 / len(data) for it in data])\n",
        "result[\"Несмещенная дисперсия\"] = sum([(it - mean)**2 / (len(data) - 1) for it in data])\n",
        "result[\"СКО\"] = np.sqrt(sigma_2_offset)\n",
        "\n",
        "for key, value in result.items():\n",
        "  print(key, value, sep=\": \")\n"
      ],
      "execution_count": null,
      "outputs": [
        {
          "output_type": "stream",
          "text": [
            "Среднее арифметическое: 65.3\n",
            "Смещенная дисперсия: 950.1099999999999\n",
            "Несмещенная дисперсия: 1000.1157894736843\n",
            "СКО: 30.823854398825592\n"
          ],
          "name": "stdout"
        }
      ]
    },
    {
      "cell_type": "markdown",
      "metadata": {
        "id": "dftI1_Yax9ZP"
      },
      "source": [
        "# Задача №2\n",
        "В первом ящике находится 8 мячей, из которых 5 - белые. Во втором ящике - 12 мячей, из которых 5 белых. Из первого ящика вытаскивают случайным образом два мяча, из второго - 4. Какова вероятность того, что 3 мяча белые?"
      ]
    },
    {
      "cell_type": "markdown",
      "metadata": {
        "id": "o9d1B3IliQbD"
      },
      "source": [
        "# Решение"
      ]
    },
    {
      "cell_type": "markdown",
      "metadata": {
        "id": "bGPmAaWo0_Ln"
      },
      "source": [
        "$$P = P_{1,2}P_{2,1} + P_{1,1}P_{2,2} + P_{1,0}P_{2,3}$$\n",
        "\n",
        "Здесь первый нижний индекс у $P$ означает, из какого ящика взяли мячи, а второй - сколько мячей взяли из этого ящика.\n",
        "\n",
        "$$P_{1,2} = \\frac{C_5^2}{C_8^2} \\\\ \n",
        "  P_{2,1} = \\frac{C_5^1 * C_7^3}{C_{12}^4} = \\frac{5 * C_7^3}{C_{12}^4} \\\\\n",
        "  P_{1,1} = \\frac{C_5^1 * C_3^1}{C_8^2} = \\frac{15}{C_8^2}\\\\\n",
        "  P_{2,2} = \\frac{C_5^2 * C_7^2}{C_{12}^4} \\\\\n",
        "  P_{1,0} = \\frac{C_3^2}{C_8^2} \\\\\n",
        "  P_{2,3} = \\frac{C_5^3 * C_7^1}{C_{12}^4} = \\frac{7 * C_5^3}{C_{12}^4}$$\n",
        "\n",
        "  Теперь посчитаем результат."
      ]
    },
    {
      "cell_type": "code",
      "metadata": {
        "id": "CKk4Esh0ynpj"
      },
      "source": [
        "from math import factorial\n",
        "\n",
        "def combinations(n, k):\n",
        "    return int(factorial(n) / (factorial(k) * factorial(n - k)))"
      ],
      "execution_count": null,
      "outputs": []
    },
    {
      "cell_type": "code",
      "metadata": {
        "colab": {
          "base_uri": "https://localhost:8080/"
        },
        "id": "kqohMUYO6pwl",
        "outputId": "b0323a96-6b36-4635-dbe6-1f2cee4e3570"
      },
      "source": [
        "first_box_combinations = combinations(8, 2)\n",
        "second_box_combinations = combinations(12, 4)\n",
        "\n",
        "P_1_2 = combinations(5, 2) / first_box_combinations\n",
        "P_1_1 = combinations(5, 1) * combinations(3, 1) / first_box_combinations\n",
        "P_1_0 = combinations(3, 2) / first_box_combinations\n",
        "\n",
        "P_2_1 = 5 * combinations(7, 3) / second_box_combinations\n",
        "P_2_2 = combinations(5, 2) * combinations(7, 2) / second_box_combinations\n",
        "P_2_3 = 7 * combinations(5, 3) / second_box_combinations\n",
        "\n",
        "P = P_1_2 * P_2_1 + P_1_1 * P_2_2 + P_1_0 * P_2_3\n",
        "\n",
        "print(f\"Ответ: P = {P}\")"
      ],
      "execution_count": null,
      "outputs": [
        {
          "output_type": "stream",
          "text": [
            "Ответ: P = 0.3686868686868687\n"
          ],
          "name": "stdout"
        }
      ]
    },
    {
      "cell_type": "markdown",
      "metadata": {
        "id": "IVYquHkLCEy9"
      },
      "source": [
        "## **Ответ: $P \\approx 0.3686$**"
      ]
    },
    {
      "cell_type": "markdown",
      "metadata": {
        "id": "OQaylTUYArMY"
      },
      "source": [
        "# Задача №3\n",
        "На соревновании по биатлону один из трех спортсменов стреляет и попадает в мишень. Вероятность попадания для первого спортсмена равна 0.9, для второго — 0.8, для третьего — 0.6. Найти вероятность того, что выстрел произведен: \n",
        "1. первым спортсменом \n",
        "2. вторым спортсменом \n",
        "3. третьим спортсменом."
      ]
    },
    {
      "cell_type": "markdown",
      "metadata": {
        "id": "OgKMozxbiKah"
      },
      "source": [
        "# Решение"
      ]
    },
    {
      "cell_type": "markdown",
      "metadata": {
        "id": "p-UXQEyrClkJ"
      },
      "source": [
        "Пусть событие $A$ - попадание в мишень, а $B_i\\ при\\ i = 1, 2, 3$ - вероятность того, что стрелял спортсмен под номером $i$.\n",
        "\n",
        "Тогда мы имеем следующее:\n",
        "\n",
        "$$P(B_i) = \\frac{1}{3},\\ i = 1, 2, 3 \\\\\n",
        "  P(A\\ |\\ B_1) = 0.9 \\\\\n",
        "  P(A\\ |\\ B_2) = 0.8 \\\\\n",
        "  P(A\\ |\\ B_3) = 0.6 \n",
        "$$\n",
        "Тогда вероятность попадания в мишень по формуле полной вероятности будет равна\n",
        "\n",
        "$$P(A) = \\sum_{i = 0}^3P(B_i)P(A\\ |\\ B_i) = P(B_i)\\sum_{i = 0}^3P(A\\ |\\ B_i)\n",
        "= \\frac13(0.9 + 0.8 + 0.6) = \\frac{2.3}3$$\n",
        "\n",
        "Теперь мы имеем все, что нужно. Осталось только привести формулу Байеса\n",
        "\n",
        "$$P(B_i\\ |\\ A) = \\frac{P(B_i)P(A\\ |\\ B_i)}{P(A)}$$\n",
        "\n",
        "Соответственно вероятность того, что стрелял первый спортсмен:\n",
        "\n",
        "$$P(B_1\\ |\\ A) = \\frac{0.9 \\cdot 3}{2.3 \\cdot 3} = \\frac9{23} \\approx 0.3913$$\n",
        "\n",
        "Вероятность того, что стрелял второй спортсмен:\n",
        "\n",
        "$$P(B_2\\ |\\ A) = \\frac{0.8 \\cdot 3}{2.3 \\cdot 3} = \\frac8{23} \\approx 0.3478$$\n",
        "\n",
        "Вероятность того, что стрелял третий спортсмен:\n",
        "\n",
        "$$P(B_3\\ |\\ A) = \\frac{0.6 \\cdot 3}{2.3 \\cdot 3} = \\frac6{23} \\approx 0.2608$$"
      ]
    },
    {
      "cell_type": "markdown",
      "metadata": {
        "id": "4RRWoGMRXNQj"
      },
      "source": [
        "# Задача №4\n",
        "\n",
        "В университет на факультеты A и B поступило равное количество студентов, а на факультет C студентов поступило столько же, сколько на A и B вместе. Вероятность того, что студент факультета A сдаст первую сессию, равна 0.8. Для студента факультета B эта вероятность равна 0.7, а для студента факультета C - 0.9. Студент сдал первую сессию. Какова вероятность, что он учится: \n",
        "1. На факультете A \n",
        "2. На факультете B \n",
        "3. На факультете C"
      ]
    },
    {
      "cell_type": "markdown",
      "metadata": {
        "id": "GD0N_9aZiGBr"
      },
      "source": [
        "# Решение"
      ]
    },
    {
      "cell_type": "markdown",
      "metadata": {
        "id": "99KZbvjSXjIT"
      },
      "source": [
        "На факультет $C$ поступило $A + B$ студентов.\n",
        "\n",
        "Так же $A = B$.\n",
        "\n",
        "Соответственно $$P(A) = P(B) = 0.5P(C)$$\n",
        "\n",
        "Из свойства вероятности имеем $$P(A) + P(B) + P(C) = 1$$\n",
        "Одновременно на 2 факультета студенты не поступаю, поэтому пересечений нет.\n",
        "Из этого следует следующее\n",
        "\n",
        "$$P(A) = P(B) = \\frac14 \\\\\n",
        "  P(C) = \\frac12$$\n",
        "\n",
        "Далее по аналогии с Задачей №3.\n",
        "Вероятность того, что студент сдал первую сессию:\n",
        "\n",
        "$$P(S) = \\frac{0.8}4 + \\frac{0.7}4 + \\frac{0.9}2 = \\frac{3.3}4$$\n",
        "\n",
        "Далее считаем вероятности того, на каком факультете учится студент\n",
        "\n",
        "$$ P(A\\ |\\ S) = \\frac14 \\cdot \\frac{4 \\cdot 0.8}{3.3} = 0.(24) \\\\\n",
        "   P(B\\ |\\ S) = \\frac14 \\cdot \\frac{4 \\cdot 0.7}{3.3} = 0.(21) \\\\\n",
        "   P(C\\ |\\ S) = \\frac12 \\cdot \\frac{4 \\cdot 0.9}{3.3} = 0.(54)$$"
      ]
    },
    {
      "cell_type": "markdown",
      "metadata": {
        "id": "flFJpJL0c06s"
      },
      "source": [
        "# Задача №5\n",
        "\n",
        "Устройство состоит из трех деталей. Для первой детали вероятность выйти из строя в первый месяц равна 0.1, для второй - 0.2, для третьей - 0.25. Какова вероятность того, что в первый месяц выйдут из строя: \n",
        "1. Все детали \n",
        "2. Только две детали \n",
        "3. Хотя бы одна деталь \n",
        "4. От одной до двух деталей"
      ]
    },
    {
      "cell_type": "markdown",
      "metadata": {
        "id": "P6YyqCoSfeoT"
      },
      "source": [
        "# Решение"
      ]
    },
    {
      "cell_type": "markdown",
      "metadata": {
        "id": "P9UXum1BfMux"
      },
      "source": [
        "## 5.1. Вероятность того, что выйдут из строя все детали"
      ]
    },
    {
      "cell_type": "markdown",
      "metadata": {
        "id": "8G8r5eTnfqU2"
      },
      "source": [
        "$$ P = 0.1 \\cdot 0.2 \\cdot 0.25 = 0.005$$"
      ]
    },
    {
      "cell_type": "markdown",
      "metadata": {
        "id": "iwB1OqAkf7x9"
      },
      "source": [
        "## 5.2 Вероятность того, что выйдут из строя только 2 детали\n"
      ]
    },
    {
      "cell_type": "markdown",
      "metadata": {
        "id": "qeLXGwyxgT8w"
      },
      "source": [
        "$$ P = 0.1 \\cdot 0.2 \\cdot 0.75 + 0.1 \\cdot 0.8 \\cdot 0.25 + 0.9 \\cdot 0.2 \\cdot 0.25 = 0.015 + 0.02 + 0.045 = 0.08$$"
      ]
    },
    {
      "cell_type": "markdown",
      "metadata": {
        "id": "9XGWdxNXg69Q"
      },
      "source": [
        "## 5.3 Вероятность того, что из строя выйдет хотя бы одна деталь"
      ]
    },
    {
      "cell_type": "markdown",
      "metadata": {
        "id": "HjL26nPGhNuF"
      },
      "source": [
        "$$ P = 1 - 0.9 \\cdot 0.8 \\cdot 0.75 = 0.46 $$"
      ]
    },
    {
      "cell_type": "markdown",
      "metadata": {
        "id": "j2cbqZgnhjna"
      },
      "source": [
        "## 5.4 Вероятность того, что выйдет из строя от одной до двух деталей"
      ]
    },
    {
      "cell_type": "markdown",
      "metadata": {
        "id": "qIVglVanhvlM"
      },
      "source": [
        "Тут можно использовать результаты 5.3 и 5.1\n",
        "\n",
        "$$ P = 0.46 - 0.005 = 0.455 $$"
      ]
    }
  ]
}