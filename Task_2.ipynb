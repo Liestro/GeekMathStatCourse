{
  "nbformat": 4,
  "nbformat_minor": 0,
  "metadata": {
    "colab": {
      "name": "Task_2.ipynb",
      "provenance": [],
      "toc_visible": true
    },
    "kernelspec": {
      "name": "python3",
      "display_name": "Python 3"
    },
    "language_info": {
      "name": "python"
    }
  },
  "cells": [
    {
      "cell_type": "markdown",
      "metadata": {
        "id": "g840NI6Agg_3"
      },
      "source": [
        "# Задача №1\n",
        "\n",
        "Вероятность того, что стрелок попадет в мишень, выстрелив один раз, равна 0.8. Стрелок выстрелил 100 раз. Найдите вероятность того, что стрелок попадет в цель ровно 85 раз."
      ]
    },
    {
      "cell_type": "markdown",
      "metadata": {
        "id": "jYqjdhu9ort_"
      },
      "source": [
        "Для решения этой задачи нам понадобится формула Бернулли:\n",
        "\n",
        "$$P_n(X=k) = C_n^k p^k q^{n-k}$$\n",
        "\n",
        "при $k = 85$, $n = 100$ и $p = 0.8$.\n",
        "\n",
        "$$P_{100}(X=85) = C_{100}^{85} * 0.8^{85} * 0.2^{15}$$"
      ]
    },
    {
      "cell_type": "code",
      "metadata": {
        "id": "Fxk66SPKgPke"
      },
      "source": [
        "from math import factorial\n",
        "\n",
        "def combinations(n, k):\n",
        "    return int(factorial(n) / (factorial(k) * factorial(n - k)))"
      ],
      "execution_count": null,
      "outputs": []
    },
    {
      "cell_type": "code",
      "metadata": {
        "colab": {
          "base_uri": "https://localhost:8080/"
        },
        "id": "r4eVmfqgrAKe",
        "outputId": "b7791cf6-36a7-432e-c241-3c9b1dd2df7f"
      },
      "source": [
        "n = 100\n",
        "k = 85\n",
        "p = 0.8\n",
        "X = combinations(n, k) * (p ** k) * (1 - p) ** (n - k)\n",
        "X"
      ],
      "execution_count": null,
      "outputs": [
        {
          "output_type": "execute_result",
          "data": {
            "text/plain": [
              "0.048061793700746355"
            ]
          },
          "metadata": {
            "tags": []
          },
          "execution_count": 22
        }
      ]
    },
    {
      "cell_type": "markdown",
      "metadata": {
        "id": "ezsmcjDSkHXk"
      },
      "source": [
        "## **Ответ:** $P_{85} = 0.04806$"
      ]
    },
    {
      "cell_type": "markdown",
      "metadata": {
        "id": "dmTbjevzk47i"
      },
      "source": [
        "# Задача №2\n",
        "\n",
        "Вероятность того, что лампочка перегорит в течение первого дня эксплуатации, равна 0.0004. В жилом комплексе после ремонта в один день включили 5000 новых лампочек. \n",
        "1. Какова вероятность, что ни одна из них не перегорит в первый день? \n",
        "2. Какова вероятность, что перегорят ровно две?"
      ]
    },
    {
      "cell_type": "markdown",
      "metadata": {
        "id": "HAxyXAQBlwL_"
      },
      "source": [
        "## 2.1 Какова вероятность, что ни одна из них не перегорит в первый день?"
      ]
    },
    {
      "cell_type": "markdown",
      "metadata": {
        "id": "5QPEGibglN7O"
      },
      "source": [
        "Для решения этой задачи необходимо воспользоваться формулой Пуассона\n",
        "\n",
        "$$P_m \\approx \\frac{(np)^m}{m!}e^{-np}$$\n",
        "\n",
        "при $p = 0.0004$, $n = 5000$ и $m = 0$.\n",
        "\n",
        "$$P_{0} \\approx \\frac{(5000 * 0.0004)^{0}}{0!}e^{-5000 * 0.0004} = \n",
        "e^{-2}$$"
      ]
    },
    {
      "cell_type": "code",
      "metadata": {
        "colab": {
          "base_uri": "https://localhost:8080/"
        },
        "id": "A-ugRttGm-M9",
        "outputId": "c4ff986e-b819-404f-f8e0-b4ffaec75e48"
      },
      "source": [
        "np.exp(-2)"
      ],
      "execution_count": null,
      "outputs": [
        {
          "output_type": "execute_result",
          "data": {
            "text/plain": [
              "0.1353352832366127"
            ]
          },
          "metadata": {
            "tags": []
          },
          "execution_count": 20
        }
      ]
    },
    {
      "cell_type": "markdown",
      "metadata": {
        "id": "4aacTpX2nf_F"
      },
      "source": [
        "### **Ответ 2.1:** $P_{0} \\approx 0.1353$"
      ]
    },
    {
      "cell_type": "markdown",
      "metadata": {
        "id": "-vHy7XSVn6EY"
      },
      "source": [
        "## 2.2 Какова вероятность, что перегорят ровно две?"
      ]
    },
    {
      "cell_type": "markdown",
      "metadata": {
        "id": "8cpkc_sHoFSN"
      },
      "source": [
        "В этом случае нам так же пеобходима формула Пуассона.\n",
        "\n",
        "$p = 0.0004, n = 5000, m = 2$\n",
        "\n",
        "$$P_2 \\approx \\frac{(5000 * 0.0004)^{2}}{2!}e^{-5000 * 0.0004} = \\frac{2^2}{2}e^{-2} = 2 * P_0 \\approx 0.2706$$"
      ]
    },
    {
      "cell_type": "markdown",
      "metadata": {
        "id": "WX1Sz9BBwGCm"
      },
      "source": [
        "### **Ответ 2.1:** $P_2 \\approx 0.2706$"
      ]
    },
    {
      "cell_type": "markdown",
      "metadata": {
        "id": "ibVcfCytx0_-"
      },
      "source": [
        ""
      ]
    },
    {
      "cell_type": "markdown",
      "metadata": {
        "id": "fs3O5UGJx2Gq"
      },
      "source": [
        "# Задача №3\n",
        "\n",
        "Монету подбросили 144 раза. Какова вероятность, что орел выпадет ровно 70 раз?"
      ]
    },
    {
      "cell_type": "markdown",
      "metadata": {
        "id": "HEXT8liqx9Yj"
      },
      "source": [
        "$$ P = C_{144}^{70} * 0.5^{70} * 0.5^{74}$$"
      ]
    },
    {
      "cell_type": "code",
      "metadata": {
        "colab": {
          "base_uri": "https://localhost:8080/"
        },
        "id": "Xirhd53pymiM",
        "outputId": "1a820f8a-26e0-420e-cac0-e10d5fe429f8"
      },
      "source": [
        "n = 144\n",
        "k = 70\n",
        "p = 0.5\n",
        "X = combinations(n, k) * (p ** k) * (1 - p) ** (n - k)\n",
        "X"
      ],
      "execution_count": null,
      "outputs": [
        {
          "output_type": "execute_result",
          "data": {
            "text/plain": [
              "0.06281178035144776"
            ]
          },
          "metadata": {
            "tags": []
          },
          "execution_count": 24
        }
      ]
    },
    {
      "cell_type": "markdown",
      "metadata": {
        "id": "_0_cvqIxy4QV"
      },
      "source": [
        "## **Ответ:** $P = 0.06281$"
      ]
    },
    {
      "cell_type": "markdown",
      "metadata": {
        "id": "oJkVq6UbzET8"
      },
      "source": [
        "# Задача №4\n",
        "\n",
        "В первом ящике находится 10 мячей, из которых 7 - белые. Во втором ящике - 11 мячей, из которых 9 белых. Из каждого ящика вытаскивают случайным образом по два мяча. \n",
        "1. Какова вероятность того, что все мячи белые? \n",
        "2. Какова вероятность того, что ровно два мяча белые? \n",
        "3. Какова вероятность того, что хотя бы один мяч белый?"
      ]
    },
    {
      "cell_type": "markdown",
      "metadata": {
        "id": "RUdQ67fi2hBa"
      },
      "source": [
        "## 4.1 Какова вероятность того, что все мячи белые?"
      ]
    },
    {
      "cell_type": "markdown",
      "metadata": {
        "id": "5jNysPvB2qIJ"
      },
      "source": [
        "Искомая вероятность равна вероятности того, что из первого и из второго ящика вытащили по 2 белых мяча. Т.е.\n",
        "\n",
        "$$P = P_1(X = 2) * P_2(X = 2)$$\n",
        "\n",
        "$$P_1 = C_2^2 * 0.7^2 * 0.3^0 = 0.14$$\n",
        "\n",
        "$$P_2 = C_2^2 * (\\frac{9}{11})^2 = \\frac{81}{121}$$\n",
        "\n",
        "Итак, $P = 0.14 * \\frac{81}{121}$"
      ]
    },
    {
      "cell_type": "code",
      "metadata": {
        "colab": {
          "base_uri": "https://localhost:8080/"
        },
        "id": "r_Dl6huc9pwH",
        "outputId": "7f8c4568-3f5e-4a9c-bea9-d9027a024333"
      },
      "source": [
        "0.14 * 81 / 121"
      ],
      "execution_count": 26,
      "outputs": [
        {
          "output_type": "execute_result",
          "data": {
            "text/plain": [
              "0.09371900826446282"
            ]
          },
          "metadata": {
            "tags": []
          },
          "execution_count": 26
        }
      ]
    },
    {
      "cell_type": "markdown",
      "metadata": {
        "id": "47iKuwvH9xMY"
      },
      "source": [
        "### **Ответ:** $P \\approx 0.0937$"
      ]
    },
    {
      "cell_type": "markdown",
      "metadata": {
        "id": "iUQJIpqx9-MV"
      },
      "source": [
        "## 4.2 Какова вероятность того, что ровно два мяча белые?"
      ]
    },
    {
      "cell_type": "markdown",
      "metadata": {
        "id": "iIQRcp0d-BoM"
      },
      "source": [
        "$$P = P_{1,2}P_{2,0} + P_{1,1}P_{2,1} + P_{1,0}P_{2,2}$$\n",
        "$$P_{1,2} = 0.14$$\n",
        "$$P_{2,0} = \\frac{4}{121}$$\n",
        "$$P_{1,1} = C_2^1 * 0.7 * 0.3 = 0.42$$\n",
        "$$P_{2,1} = C_2^1 * \\frac{18}{121} = \\frac{36}{121}$$\n",
        "$$P_{1,0} = 0.09$$\n",
        "$$P_{2,2} = \\frac{81}{121}$$\n",
        "\n",
        "Здесь первый индекс у $P$ - это номер ящика, а второй - количество вытащенных белых мячей.\n",
        " \n",
        "В итоге \n",
        "\n",
        "$$P = \\frac{0.14 * 4}{121} + \\frac{0.42 * 36}{121} + \\frac{0.09 * 81}{121}$$"
      ]
    },
    {
      "cell_type": "code",
      "metadata": {
        "colab": {
          "base_uri": "https://localhost:8080/"
        },
        "id": "xNdWfAejA6Ol",
        "outputId": "839200dc-33e8-4acb-f52a-4786eabccd66"
      },
      "source": [
        "0.14 * 4 / 121 + 0.42 * 36 / 121 + 0.09 * 81 / 121"
      ],
      "execution_count": 27,
      "outputs": [
        {
          "output_type": "execute_result",
          "data": {
            "text/plain": [
              "0.18983471074380165"
            ]
          },
          "metadata": {
            "tags": []
          },
          "execution_count": 27
        }
      ]
    },
    {
      "cell_type": "markdown",
      "metadata": {
        "id": "1KQezojDBGNC"
      },
      "source": [
        "### **Ответ:** $P \\approx 0.1898$"
      ]
    },
    {
      "cell_type": "markdown",
      "metadata": {
        "id": "LKcDAPj2BY1c"
      },
      "source": [
        "## 4.3 Какова вероятность того, что хотя бы один мяч белый?"
      ]
    },
    {
      "cell_type": "markdown",
      "metadata": {
        "id": "5jkX6JWBBcJ0"
      },
      "source": [
        "$$P = 1 - P_{1,0} * P_{2,0}$$\n",
        "\n",
        "Мы уже выяснили в 4.2, что $P_{1,0} = 0.09$ и $P_{2,0} = \\frac{4}{121}$\n",
        "\n",
        "Следовательно\n",
        "$$P = 1 - \\frac{0.09 * 4}{121}$$"
      ]
    },
    {
      "cell_type": "code",
      "metadata": {
        "colab": {
          "base_uri": "https://localhost:8080/"
        },
        "id": "np5SXrArCCxO",
        "outputId": "cbe1c362-5fee-4b05-9dd7-0ecc105f6a6b"
      },
      "source": [
        "1 - 0.09 * 4 / 121"
      ],
      "execution_count": 28,
      "outputs": [
        {
          "output_type": "execute_result",
          "data": {
            "text/plain": [
              "0.9970247933884298"
            ]
          },
          "metadata": {
            "tags": []
          },
          "execution_count": 28
        }
      ]
    },
    {
      "cell_type": "markdown",
      "metadata": {
        "id": "Wsv30REYCJBs"
      },
      "source": [
        "### **Ответ:** $P \\approx 0.997$"
      ]
    }
  ]
}