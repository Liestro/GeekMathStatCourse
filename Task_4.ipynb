{
 "cells": [
  {
   "cell_type": "markdown",
   "metadata": {
    "collapsed": true,
    "pycharm": {
     "name": "#%% md\n"
    }
   },
   "source": [
    "# Задача №1\n",
    "\n",
    "Случайная непрерывная величина A имеет равномерное распределение на промежутке (200, 800].\n",
    "Найдите ее среднее значение и дисперсию."
   ]
  },
  {
   "cell_type": "markdown",
   "source": [
    "# Решение"
   ],
   "metadata": {
    "collapsed": false
   }
  },
  {
   "cell_type": "code",
   "source": [
    "import numpy as np\n",
    "\n",
    "a = 200\n",
    "b = 800\n",
    "\n",
    "mu = (a + b) / 2\n",
    "sigma_2 = (b - a)**2 / 12\n",
    "sigma = np.sqrt(sigma_2)\n",
    "\n",
    "print(f\"Среднее значение: {mu}\", f\"Дисперсия: {sigma_2}\", sep='\\n')\n"
   ],
   "metadata": {
    "collapsed": false,
    "pycharm": {
     "name": "#%%\n"
    }
   },
   "execution_count": 14,
   "outputs": [
    {
     "name": "stdout",
     "output_type": "stream",
     "text": [
      "Среднее значение: 500.0\n",
      "Дисперсия: 30000.0\n"
     ]
    }
   ]
  },
  {
   "cell_type": "markdown",
   "source": [
    "# Задача №2\n",
    "\n",
    "О случайной непрерывной равномерно распределенной величине B известно, что ее дисперсия равна 0.2.\n",
    "Можно ли найти правую границу величины B и ее среднее значение зная, что левая граница равна 0.5?\n",
    "Если да, найдите ее."
   ],
   "metadata": {
    "collapsed": false
   }
  },
  {
   "cell_type": "markdown",
   "source": [
    "# Решение"
   ],
   "metadata": {
    "collapsed": false
   }
  },
  {
   "cell_type": "markdown",
   "source": [
    "Известно, что $a = 0,5$, $D = 0.2$\n",
    "\n",
    "Так же известна формула дисперсии равномерно распределенной случайной величины\n",
    "\n",
    "$$D(X) = \\frac{(b - a)^2}{12}$$\n",
    "\n",
    "Исходя из этого, мы можем найти правую границу\n",
    "\n",
    "$$b = \\sqrt{12 * D} + a = \\sqrt{12 \\cdot 0.2} + 0.5 \\approx 2.0492$$\n",
    "\n",
    "Зная обе границы мы можем вычислить среднее значение\n",
    "\n",
    "$$M = \\frac{a + b}{2} \\approx 1.2746$$"
   ],
   "metadata": {
    "collapsed": false
   }
  },
  {
   "cell_type": "markdown",
   "source": [
    "## Ответ: b = 2.0492, M = 1.2746"
   ],
   "metadata": {
    "collapsed": false
   }
  },
  {
   "cell_type": "markdown",
   "source": [
    "# Задача №3\n",
    "\n",
    "Непрерывная случайная величина X распределена нормально и задана плотностью распределения\n",
    "$$f(x) = \\frac{1}{4 \\cdot sqrt(2\\pi)} \\cdot exp(\\frac{-(x+2)^2}{32})$$\n",
    "\n",
    "Найдите:\n",
    "1. M(X)\n",
    "2. D(X)\n",
    "3. std(X)"
   ],
   "metadata": {
    "collapsed": false
   }
  },
  {
   "cell_type": "markdown",
   "source": [
    "# Решение"
   ],
   "metadata": {
    "collapsed": false
   }
  },
  {
   "cell_type": "markdown",
   "source": [
    "Общее выражение для плотности вероятности нормального распределения:\n",
    "\n",
    "$$f(x) = \\frac{1}{\\sigma \\sqrt{2 \\pi}} e ^ {- \\frac{(x - a)^2}{2 \\sigma^2}},$$\n",
    "\n",
    "Соответственно\n",
    "\n",
    "1. $M(X) = 2$\n",
    "2. $D(X) = 16$\n",
    "3. $std(X) = 4$"
   ],
   "metadata": {
    "collapsed": false
   }
  },
  {
   "cell_type": "markdown",
   "source": [
    "# Задача №4\n",
    "\n",
    "Рост взрослого населения города X имеет нормальное распределение.\n",
    "Причем, средний рост равен 174 см, а среднее квадратичное отклонение равно 8 см.\n",
    "Какова вероятность того, что случайным образом выбранный взрослый человек имеет рост:\n",
    "1. Больше 182 см\n",
    "2. Больше 190 см\n",
    "3. От 166 см до 190 см\n",
    "4. От 166 см до 182 см\n",
    "5. От 158 см до 190 см\n",
    "6. Не выше 150 см или не ниже 190 см\n",
    "7. Не выше 150 см или не ниже 198 см\n",
    "8. Ниже 166 см."
   ],
   "metadata": {
    "collapsed": false,
    "pycharm": {
     "name": "#%% md\n"
    }
   }
  },
  {
   "cell_type": "markdown",
   "source": [
    "# Решение"
   ],
   "metadata": {
    "collapsed": false,
    "pycharm": {
     "name": "#%% md\n"
    }
   }
  },
  {
   "cell_type": "markdown",
   "source": [
    "Для начала нужно стандартизовать распределение\n",
    "\n",
    "$$Z = \\frac{X - 174}{8}$$\n",
    "\n",
    "В итоге имеем:\n",
    "1. Больше 1\n",
    "2. Больше 2\n",
    "3. От -1 До 2\n",
    "4. От -1 до 1\n",
    "5. От -2 до 2\n",
    "6. Не больше -3 или не меньше 2\n",
    "7. Не больше -3 или не меньше 3\n",
    "8. Меньше -1\n",
    "\n",
    "Пользуясь таблицей нормального распределения, получаем ответ:\n",
    "\n",
    "1. 15.87 %\n",
    "2. 2.28 %\n",
    "3. 81.85 %\n",
    "4. 68.26 %\n",
    "5. 95.44 %\n",
    "6. 2.41 %\n",
    "7. 0.26 %\n",
    "8. 15.87%"
   ],
   "metadata": {
    "collapsed": false,
    "pycharm": {
     "name": "#%% md\n"
    }
   }
  },
  {
   "cell_type": "markdown",
   "source": [
    "# Задача №5\n",
    "\n",
    "На сколько сигм (средних квадратичных отклонений) отклоняется рост человека, равный 190 см, от\n",
    "математического ожидания роста в популяции, в которой M(X) = 178 см и D(X) = 25 кв.см?"
   ],
   "metadata": {
    "collapsed": false,
    "pycharm": {
     "name": "#%% md\n"
    }
   }
  },
  {
   "cell_type": "markdown",
   "source": [
    "# Решение"
   ],
   "metadata": {
    "collapsed": false,
    "pycharm": {
     "name": "#%% md\n"
    }
   }
  },
  {
   "cell_type": "markdown",
   "source": [
    "$$Z = \\frac{190 - 178}{5} = \\frac{12}{5} = 2.4$$"
   ],
   "metadata": {
    "collapsed": false,
    "pycharm": {
     "name": "#%% md\n"
    }
   }
  }
 ],
 "metadata": {
  "kernelspec": {
   "display_name": "Python 3",
   "language": "python",
   "name": "python3"
  },
  "language_info": {
   "codemirror_mode": {
    "name": "ipython",
    "version": 2
   },
   "file_extension": ".py",
   "mimetype": "text/x-python",
   "name": "python",
   "nbconvert_exporter": "python",
   "pygments_lexer": "ipython2",
   "version": "2.7.6"
  }
 },
 "nbformat": 4,
 "nbformat_minor": 0
}